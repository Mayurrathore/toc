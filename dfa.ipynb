class DFA:
    def __init__(s):
        s.r=int(input("Enter number of states : "))
        s.q=[chr(ord("A")+i) for i in range(s.r)]
        print("State set for this machine : ",s.q)
        s.l=[x for x in input("Enter alphabets : ").split()]
        s.d={}
        for i in range(len(s.q)):
            s.d[s.q[i]]={}
            for j in range(len(s.l)):
                print("state {} on input {} goes to state ".format(s.q[i],s.l[j]),end="")
                x=input().upper()
                while x not in s.q:
                    print("state is not present\n"+"state {} on input {} goes to state ".format(s.q[i],s.l[j]),end="")
                    x=input().upper()
                s.d[s.q[i]][s.l[j]]=x
        s.a=input("Enter initial state (alphabet): ").upper()
        while s.a not in s.q:
            print("Error in state\nEnter initial state (alphabet): ",end="")
            s.a=input().upper()
        s.f=[x for x in input("Enter list of final states (alphabet) ").split()]
        for i in range(len(s.f)):
            s.f[i]=s.f[i].upper()
            while s.f[i] not in s.q:
                print("{} is not present in state set".format(s.f[i]))
                print("You want to re-place it\n1) Yes   2) No")
                x=int(input())
                while x!=1 and x!=2:
                    print("Invalid entrie")
                    x=int(input("Enter again : "))
                if x==1:
                    s.f[i]=input()
                else:
                    s.f.pop(i)
    def truestring(s,string):
        x=s.a
        print("Traverse from\n1) Right (<-)  or  2) Left (->)")
        r=int(input())
        while r!=1 and r!=2:
            print("Invalid entrie")
            r=int(input("Enter again : "))
        if r==1:
            string=string[::-1]
        for i in string:
            if i not in s.l:
                if r==1:
                    string=string[::-1]
                print(string," is invalid ",i," is not in alphabet set")
                return
            print(x," on input ",i," goes to ",s.d[x][i])
            x=s.d[x][i]
        if r==1:
            string=string[::-1]
        if x in s.f:
            print(string," is valid")
        else:
            print(string," is invalid")
        return
    def table(s):
        print("Transition table : ")
        print("  ",end="| ")
        for i in range(len(s.l)):
            print("{}  ".format(s.l[i]),end="")
        print()
        for i in range(len(s.q)):
            print("{} | ".format(s.q[i]),end="")
            for j in range(len(s.l)):
                print("{}  ".format(s.d[s.q[i]][s.l[j]]),end="")
            print()
        print(s.f," are final state",end="")
        if len(s.f)>1:
            print("s")
o=DFA()
s=input("Enter string to test")
o.truestring(s)
o.table()
